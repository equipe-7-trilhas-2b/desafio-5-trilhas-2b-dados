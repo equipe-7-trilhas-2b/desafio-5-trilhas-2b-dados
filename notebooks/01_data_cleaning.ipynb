{
 "cells": [
  {
   "cell_type": "markdown",
   "id": "d6f6f1a6",
   "metadata": {},
   "source": [
    "## 01 – Data Cleaning dos focos de queimadas em MA (2025)\n",
    "\n",
    "**Objetivo:**  \n",
    "Limpar, padronizar e validar os dados brutos de focos de queimadas em Maranhão (jan–jun/2025), preparando o CSV para as próximas etapas de análise e EDA."
   ]
  },
  {
   "cell_type": "markdown",
   "id": "1cd2807e",
   "metadata": {},
   "source": [
    "### Importar Bibliotecas e Configurações (Code)"
   ]
  },
  {
   "cell_type": "code",
   "execution_count": 1,
   "id": "5ef1b302",
   "metadata": {},
   "outputs": [],
   "source": [
    "import pandas as pd\n",
    "import numpy as np\n",
    "import os\n",
    "os.getcwd()\n",
    "\n",
    "# Ajustes de exibição\n",
    "pd.set_option('display.max_columns', None)\n",
    "pd.set_option('display.width', 120)"
   ]
  },
  {
   "cell_type": "markdown",
   "id": "e0a81fe4",
   "metadata": {},
   "source": [
    "### Carregar o CSV"
   ]
  },
  {
   "cell_type": "code",
   "execution_count": 2,
   "id": "edf12b24",
   "metadata": {},
   "outputs": [],
   "source": [
    "df = pd.read_csv('../data/raw/focos_mensal_ma_2025.csv')"
   ]
  },
  {
   "cell_type": "markdown",
   "id": "5020640a",
   "metadata": {},
   "source": [
    "###  Inspeção Inicial"
   ]
  },
  {
   "cell_type": "code",
   "execution_count": 3,
   "id": "852ad529",
   "metadata": {},
   "outputs": [
    {
     "name": "stdout",
     "output_type": "stream",
     "text": [
      "Linhas x Colunas: (34791, 16)\n"
     ]
    },
    {
     "data": {
      "text/plain": [
       "id                        object\n",
       "lat                      float64\n",
       "lon                      float64\n",
       "data_hora_gmt             object\n",
       "satelite                  object\n",
       "municipio                 object\n",
       "estado                    object\n",
       "pais                      object\n",
       "municipio_id               int64\n",
       "estado_id                  int64\n",
       "pais_id                    int64\n",
       "numero_dias_sem_chuva    float64\n",
       "precipitacao             float64\n",
       "risco_fogo               float64\n",
       "bioma                     object\n",
       "frp                      float64\n",
       "dtype: object"
      ]
     },
     "metadata": {},
     "output_type": "display_data"
    }
   ],
   "source": [
    "# Shape e colunas\n",
    "print(\"Linhas x Colunas:\", df.shape)\n",
    "display(df.dtypes)"
   ]
  },
  {
   "cell_type": "code",
   "execution_count": 4,
   "id": "5e41dc48",
   "metadata": {},
   "outputs": [
    {
     "data": {
      "text/html": [
       "<div>\n",
       "<style scoped>\n",
       "    .dataframe tbody tr th:only-of-type {\n",
       "        vertical-align: middle;\n",
       "    }\n",
       "\n",
       "    .dataframe tbody tr th {\n",
       "        vertical-align: top;\n",
       "    }\n",
       "\n",
       "    .dataframe thead th {\n",
       "        text-align: right;\n",
       "    }\n",
       "</style>\n",
       "<table border=\"1\" class=\"dataframe\">\n",
       "  <thead>\n",
       "    <tr style=\"text-align: right;\">\n",
       "      <th></th>\n",
       "      <th>id</th>\n",
       "      <th>lat</th>\n",
       "      <th>lon</th>\n",
       "      <th>data_hora_gmt</th>\n",
       "      <th>satelite</th>\n",
       "      <th>municipio</th>\n",
       "      <th>estado</th>\n",
       "      <th>pais</th>\n",
       "      <th>municipio_id</th>\n",
       "      <th>estado_id</th>\n",
       "      <th>pais_id</th>\n",
       "      <th>numero_dias_sem_chuva</th>\n",
       "      <th>precipitacao</th>\n",
       "      <th>risco_fogo</th>\n",
       "      <th>bioma</th>\n",
       "      <th>frp</th>\n",
       "    </tr>\n",
       "  </thead>\n",
       "  <tbody>\n",
       "    <tr>\n",
       "      <th>0</th>\n",
       "      <td>c406b4a8-0f9c-3c1e-9a83-f9d032adefee</td>\n",
       "      <td>-5.21240</td>\n",
       "      <td>-44.90449</td>\n",
       "      <td>2025-01-01 3:46:00</td>\n",
       "      <td>NOAA-20</td>\n",
       "      <td>BARRA DO CORDA</td>\n",
       "      <td>MARANHÃO</td>\n",
       "      <td>Brasil</td>\n",
       "      <td>2101608</td>\n",
       "      <td>21</td>\n",
       "      <td>33</td>\n",
       "      <td>0.0</td>\n",
       "      <td>0.35</td>\n",
       "      <td>0.24</td>\n",
       "      <td>Cerrado</td>\n",
       "      <td>4.3</td>\n",
       "    </tr>\n",
       "    <tr>\n",
       "      <th>1</th>\n",
       "      <td>261abf1d-1a28-3e86-bf99-032ee0ca4419</td>\n",
       "      <td>-1.68696</td>\n",
       "      <td>-45.87955</td>\n",
       "      <td>2025-01-01 4:38:00</td>\n",
       "      <td>NOAA-21</td>\n",
       "      <td>AMAPÁ DO MARANHÃO</td>\n",
       "      <td>MARANHÃO</td>\n",
       "      <td>Brasil</td>\n",
       "      <td>2100550</td>\n",
       "      <td>21</td>\n",
       "      <td>33</td>\n",
       "      <td>1.0</td>\n",
       "      <td>0.10</td>\n",
       "      <td>0.33</td>\n",
       "      <td>Amazônia</td>\n",
       "      <td>0.7</td>\n",
       "    </tr>\n",
       "    <tr>\n",
       "      <th>2</th>\n",
       "      <td>517e242c-ff97-3932-bdd4-13544c77d3e1</td>\n",
       "      <td>-2.18130</td>\n",
       "      <td>-45.67765</td>\n",
       "      <td>2025-01-01 4:38:00</td>\n",
       "      <td>NOAA-21</td>\n",
       "      <td>GOVERNADOR NUNES FREIRE</td>\n",
       "      <td>MARANHÃO</td>\n",
       "      <td>Brasil</td>\n",
       "      <td>2104677</td>\n",
       "      <td>21</td>\n",
       "      <td>33</td>\n",
       "      <td>2.0</td>\n",
       "      <td>0.00</td>\n",
       "      <td>0.91</td>\n",
       "      <td>Amazônia</td>\n",
       "      <td>2.1</td>\n",
       "    </tr>\n",
       "    <tr>\n",
       "      <th>3</th>\n",
       "      <td>11f9154d-60cb-34fe-8256-b3a4dba8b7b2</td>\n",
       "      <td>-1.68747</td>\n",
       "      <td>-45.87200</td>\n",
       "      <td>2025-01-01 4:38:00</td>\n",
       "      <td>NOAA-21</td>\n",
       "      <td>AMAPÁ DO MARANHÃO</td>\n",
       "      <td>MARANHÃO</td>\n",
       "      <td>Brasil</td>\n",
       "      <td>2100550</td>\n",
       "      <td>21</td>\n",
       "      <td>33</td>\n",
       "      <td>1.0</td>\n",
       "      <td>0.10</td>\n",
       "      <td>0.72</td>\n",
       "      <td>Amazônia</td>\n",
       "      <td>0.9</td>\n",
       "    </tr>\n",
       "    <tr>\n",
       "      <th>4</th>\n",
       "      <td>c92df387-c2d1-345b-9290-47b2300985e0</td>\n",
       "      <td>-1.68975</td>\n",
       "      <td>-45.88038</td>\n",
       "      <td>2025-01-01 4:38:00</td>\n",
       "      <td>NOAA-21</td>\n",
       "      <td>AMAPÁ DO MARANHÃO</td>\n",
       "      <td>MARANHÃO</td>\n",
       "      <td>Brasil</td>\n",
       "      <td>2100550</td>\n",
       "      <td>21</td>\n",
       "      <td>33</td>\n",
       "      <td>1.0</td>\n",
       "      <td>0.10</td>\n",
       "      <td>0.34</td>\n",
       "      <td>Amazônia</td>\n",
       "      <td>1.2</td>\n",
       "    </tr>\n",
       "  </tbody>\n",
       "</table>\n",
       "</div>"
      ],
      "text/plain": [
       "                                     id      lat       lon       data_hora_gmt satelite                municipio  \\\n",
       "0  c406b4a8-0f9c-3c1e-9a83-f9d032adefee -5.21240 -44.90449  2025-01-01 3:46:00  NOAA-20           BARRA DO CORDA   \n",
       "1  261abf1d-1a28-3e86-bf99-032ee0ca4419 -1.68696 -45.87955  2025-01-01 4:38:00  NOAA-21        AMAPÁ DO MARANHÃO   \n",
       "2  517e242c-ff97-3932-bdd4-13544c77d3e1 -2.18130 -45.67765  2025-01-01 4:38:00  NOAA-21  GOVERNADOR NUNES FREIRE   \n",
       "3  11f9154d-60cb-34fe-8256-b3a4dba8b7b2 -1.68747 -45.87200  2025-01-01 4:38:00  NOAA-21        AMAPÁ DO MARANHÃO   \n",
       "4  c92df387-c2d1-345b-9290-47b2300985e0 -1.68975 -45.88038  2025-01-01 4:38:00  NOAA-21        AMAPÁ DO MARANHÃO   \n",
       "\n",
       "     estado    pais  municipio_id  estado_id  pais_id  numero_dias_sem_chuva  precipitacao  risco_fogo     bioma  frp  \n",
       "0  MARANHÃO  Brasil       2101608         21       33                    0.0          0.35        0.24   Cerrado  4.3  \n",
       "1  MARANHÃO  Brasil       2100550         21       33                    1.0          0.10        0.33  Amazônia  0.7  \n",
       "2  MARANHÃO  Brasil       2104677         21       33                    2.0          0.00        0.91  Amazônia  2.1  \n",
       "3  MARANHÃO  Brasil       2100550         21       33                    1.0          0.10        0.72  Amazônia  0.9  \n",
       "4  MARANHÃO  Brasil       2100550         21       33                    1.0          0.10        0.34  Amazônia  1.2  "
      ]
     },
     "metadata": {},
     "output_type": "display_data"
    }
   ],
   "source": [
    "\n",
    "# Primeiros registros\n",
    "display(df.head())"
   ]
  },
  {
   "cell_type": "code",
   "execution_count": 5,
   "id": "34176e07",
   "metadata": {},
   "outputs": [
    {
     "name": "stdout",
     "output_type": "stream",
     "text": [
      "NAs por coluna:\n",
      " id                         0\n",
      "lat                        0\n",
      "lon                        0\n",
      "data_hora_gmt              0\n",
      "satelite                   0\n",
      "municipio                  0\n",
      "estado                     0\n",
      "pais                       0\n",
      "municipio_id               0\n",
      "estado_id                  0\n",
      "pais_id                    0\n",
      "numero_dias_sem_chuva    542\n",
      "precipitacao             542\n",
      "risco_fogo               542\n",
      "bioma                      0\n",
      "frp                      996\n",
      "dtype: int64\n",
      "\n",
      "----------------------------\n",
      "\n",
      "Duplicatas totais: 0\n"
     ]
    }
   ],
   "source": [
    "\n",
    "# Missing & duplicatas\n",
    "print(\"NAs por coluna:\\n\", df.isna().sum())\n",
    "print()\n",
    "print(\"----------------------------\")\n",
    "print()\n",
    "print(\"Duplicatas totais:\", df.duplicated().sum())"
   ]
  },
  {
   "cell_type": "markdown",
   "id": "2b2df5fb",
   "metadata": {},
   "source": [
    "### Tratamento de Colunas de Data\n",
    "- Converter a string em `datetime`, criando colunas auxiliares de ano e mês."
   ]
  },
  {
   "cell_type": "code",
   "execution_count": 6,
   "id": "94168a22",
   "metadata": {},
   "outputs": [
    {
     "data": {
      "text/html": [
       "<div>\n",
       "<style scoped>\n",
       "    .dataframe tbody tr th:only-of-type {\n",
       "        vertical-align: middle;\n",
       "    }\n",
       "\n",
       "    .dataframe tbody tr th {\n",
       "        vertical-align: top;\n",
       "    }\n",
       "\n",
       "    .dataframe thead th {\n",
       "        text-align: right;\n",
       "    }\n",
       "</style>\n",
       "<table border=\"1\" class=\"dataframe\">\n",
       "  <thead>\n",
       "    <tr style=\"text-align: right;\">\n",
       "      <th></th>\n",
       "      <th>data_hora_gmt</th>\n",
       "      <th>ano</th>\n",
       "      <th>mes</th>\n",
       "      <th>dia</th>\n",
       "      <th>hora</th>\n",
       "    </tr>\n",
       "  </thead>\n",
       "  <tbody>\n",
       "    <tr>\n",
       "      <th>0</th>\n",
       "      <td>2025-01-01 03:46:00</td>\n",
       "      <td>2025</td>\n",
       "      <td>1</td>\n",
       "      <td>1</td>\n",
       "      <td>3</td>\n",
       "    </tr>\n",
       "    <tr>\n",
       "      <th>1</th>\n",
       "      <td>2025-01-01 04:38:00</td>\n",
       "      <td>2025</td>\n",
       "      <td>1</td>\n",
       "      <td>1</td>\n",
       "      <td>4</td>\n",
       "    </tr>\n",
       "    <tr>\n",
       "      <th>2</th>\n",
       "      <td>2025-01-01 04:38:00</td>\n",
       "      <td>2025</td>\n",
       "      <td>1</td>\n",
       "      <td>1</td>\n",
       "      <td>4</td>\n",
       "    </tr>\n",
       "    <tr>\n",
       "      <th>3</th>\n",
       "      <td>2025-01-01 04:38:00</td>\n",
       "      <td>2025</td>\n",
       "      <td>1</td>\n",
       "      <td>1</td>\n",
       "      <td>4</td>\n",
       "    </tr>\n",
       "    <tr>\n",
       "      <th>4</th>\n",
       "      <td>2025-01-01 04:38:00</td>\n",
       "      <td>2025</td>\n",
       "      <td>1</td>\n",
       "      <td>1</td>\n",
       "      <td>4</td>\n",
       "    </tr>\n",
       "  </tbody>\n",
       "</table>\n",
       "</div>"
      ],
      "text/plain": [
       "        data_hora_gmt   ano  mes  dia  hora\n",
       "0 2025-01-01 03:46:00  2025    1    1     3\n",
       "1 2025-01-01 04:38:00  2025    1    1     4\n",
       "2 2025-01-01 04:38:00  2025    1    1     4\n",
       "3 2025-01-01 04:38:00  2025    1    1     4\n",
       "4 2025-01-01 04:38:00  2025    1    1     4"
      ]
     },
     "metadata": {},
     "output_type": "display_data"
    }
   ],
   "source": [
    "df['data_hora_gmt'] = pd.to_datetime(df['data_hora_gmt'], errors='coerce')\n",
    "df['ano']   = df['data_hora_gmt'].dt.year\n",
    "df['mes']   = df['data_hora_gmt'].dt.month\n",
    "df['dia']   = df['data_hora_gmt'].dt.day\n",
    "df['hora']  = df['data_hora_gmt'].dt.hour\n",
    "\n",
    "# Validar\n",
    "display(df[['data_hora_gmt','ano','mes', 'dia', 'hora']].head())"
   ]
  },
  {
   "cell_type": "markdown",
   "id": "8cd2ee22",
   "metadata": {},
   "source": [
    "### Remoção de Duplicatas\n",
    "Definimos duplicatas por combinação (`id`) ou por (`lat`, `lon`, `data_hora_gmt`)."
   ]
  },
  {
   "cell_type": "code",
   "execution_count": 7,
   "id": "734f2d00",
   "metadata": {},
   "outputs": [
    {
     "name": "stdout",
     "output_type": "stream",
     "text": [
      "Duplicatas após remoção: 0\n"
     ]
    }
   ],
   "source": [
    "# Exemplo: por id\n",
    "df = df.drop_duplicates(subset=['id'])\n",
    "\n",
    "# ou, se preferir, pela combinação geotemporal\n",
    "# df = df.drop_duplicates(subset=['lat','lon','data_hora_gmt'])\n",
    "\n",
    "print(\"Duplicatas após remoção:\", df.duplicated().sum())"
   ]
  },
  {
   "cell_type": "markdown",
   "id": "8ca36832",
   "metadata": {},
   "source": [
    "### Padronização de Strings"
   ]
  },
  {
   "cell_type": "code",
   "execution_count": 8,
   "id": "65713b77",
   "metadata": {},
   "outputs": [
    {
     "data": {
      "text/html": [
       "<div>\n",
       "<style scoped>\n",
       "    .dataframe tbody tr th:only-of-type {\n",
       "        vertical-align: middle;\n",
       "    }\n",
       "\n",
       "    .dataframe tbody tr th {\n",
       "        vertical-align: top;\n",
       "    }\n",
       "\n",
       "    .dataframe thead th {\n",
       "        text-align: right;\n",
       "    }\n",
       "</style>\n",
       "<table border=\"1\" class=\"dataframe\">\n",
       "  <thead>\n",
       "    <tr style=\"text-align: right;\">\n",
       "      <th></th>\n",
       "      <th>estado</th>\n",
       "      <th>municipio</th>\n",
       "      <th>satelite</th>\n",
       "    </tr>\n",
       "  </thead>\n",
       "  <tbody>\n",
       "    <tr>\n",
       "      <th>0</th>\n",
       "      <td>MARANHÃO</td>\n",
       "      <td>Barra Do Corda</td>\n",
       "      <td>NOAA-20</td>\n",
       "    </tr>\n",
       "    <tr>\n",
       "      <th>1</th>\n",
       "      <td>MARANHÃO</td>\n",
       "      <td>Amapá Do Maranhão</td>\n",
       "      <td>NOAA-21</td>\n",
       "    </tr>\n",
       "    <tr>\n",
       "      <th>2</th>\n",
       "      <td>MARANHÃO</td>\n",
       "      <td>Governador Nunes Freire</td>\n",
       "      <td>NOAA-21</td>\n",
       "    </tr>\n",
       "    <tr>\n",
       "      <th>6</th>\n",
       "      <td>MARANHÃO</td>\n",
       "      <td>Presidente Médici</td>\n",
       "      <td>NOAA-21</td>\n",
       "    </tr>\n",
       "    <tr>\n",
       "      <th>8</th>\n",
       "      <td>MARANHÃO</td>\n",
       "      <td>Mata Roma</td>\n",
       "      <td>NOAA-21</td>\n",
       "    </tr>\n",
       "    <tr>\n",
       "      <th>9</th>\n",
       "      <td>MARANHÃO</td>\n",
       "      <td>Godofredo Viana</td>\n",
       "      <td>NOAA-21</td>\n",
       "    </tr>\n",
       "    <tr>\n",
       "      <th>13</th>\n",
       "      <td>MARANHÃO</td>\n",
       "      <td>Alto Alegre Do Pindaré</td>\n",
       "      <td>NOAA-21</td>\n",
       "    </tr>\n",
       "    <tr>\n",
       "      <th>14</th>\n",
       "      <td>MARANHÃO</td>\n",
       "      <td>Barra Do Corda</td>\n",
       "      <td>NOAA-21</td>\n",
       "    </tr>\n",
       "    <tr>\n",
       "      <th>16</th>\n",
       "      <td>MARANHÃO</td>\n",
       "      <td>Grajaú</td>\n",
       "      <td>NOAA-21</td>\n",
       "    </tr>\n",
       "    <tr>\n",
       "      <th>17</th>\n",
       "      <td>MARANHÃO</td>\n",
       "      <td>Magalhães De Almeida</td>\n",
       "      <td>TERRA_M-T</td>\n",
       "    </tr>\n",
       "  </tbody>\n",
       "</table>\n",
       "</div>"
      ],
      "text/plain": [
       "      estado                municipio   satelite\n",
       "0   MARANHÃO           Barra Do Corda    NOAA-20\n",
       "1   MARANHÃO        Amapá Do Maranhão    NOAA-21\n",
       "2   MARANHÃO  Governador Nunes Freire    NOAA-21\n",
       "6   MARANHÃO        Presidente Médici    NOAA-21\n",
       "8   MARANHÃO                Mata Roma    NOAA-21\n",
       "9   MARANHÃO          Godofredo Viana    NOAA-21\n",
       "13  MARANHÃO   Alto Alegre Do Pindaré    NOAA-21\n",
       "14  MARANHÃO           Barra Do Corda    NOAA-21\n",
       "16  MARANHÃO                   Grajaú    NOAA-21\n",
       "17  MARANHÃO     Magalhães De Almeida  TERRA_M-T"
      ]
     },
     "metadata": {},
     "output_type": "display_data"
    }
   ],
   "source": [
    "df['estado']    = df['estado'].str.strip().str.upper()\n",
    "df['municipio'] = df['municipio'].str.strip().str.title()\n",
    "df['satelite']  = df['satelite'].str.strip().str.upper()\n",
    "\n",
    "display(df[['estado','municipio','satelite']].drop_duplicates().head(10))"
   ]
  },
  {
   "cell_type": "markdown",
   "id": "1ed4e2d6",
   "metadata": {},
   "source": [
    "### Tratamento de Valores Ausentes"
   ]
  },
  {
   "cell_type": "code",
   "execution_count": 9,
   "id": "26ea467a",
   "metadata": {},
   "outputs": [
    {
     "name": "stdout",
     "output_type": "stream",
     "text": [
      "numero_dias_sem_chuva    1.557874\n",
      "precipitacao             1.557874\n",
      "risco_fogo               1.557874\n",
      "frp                      2.862809\n",
      "dtype: float64\n"
     ]
    }
   ],
   "source": [
    "# Inspecionar proporção de NAs\n",
    "na_pct = df.isna().mean() * 100\n",
    "print(na_pct[na_pct>0])\n",
    "\n",
    "# Exemplo de preenchimento\n",
    "df['numero_dias_sem_chuva'] = df['numero_dias_sem_chuva'].fillna(0)\n",
    "df['precipitacao']          = df['precipitacao'].fillna(0)\n",
    "df['risco_fogo']            = df['risco_fogo'].fillna(df['risco_fogo'].median())\n",
    "\n",
    "# FRP tem NAs: podemos preencher com 0 ou remover\n",
    "df['frp'] = df['frp'].fillna(0)"
   ]
  },
  {
   "cell_type": "markdown",
   "id": "84b48ba8",
   "metadata": {},
   "source": [
    "### Checagem Geográfica\n",
    "- Assegurar que `lat` e `lon` estejam dentro dos limites de Maranhão."
   ]
  },
  {
   "cell_type": "code",
   "execution_count": 10,
   "id": "eac4d2c8",
   "metadata": {},
   "outputs": [
    {
     "name": "stdout",
     "output_type": "stream",
     "text": [
      "Fora do MA: 0\n"
     ]
    }
   ],
   "source": [
    "lat_min, lat_max = -10.5, -1.0\n",
    "lon_min, lon_max = -49.0, -40.5\n",
    "\n",
    "mask_geo = (\n",
    "    df['lat'].between(lat_min, lat_max) &\n",
    "    df['lon'].between(lon_min, lon_max)\n",
    ")\n",
    "print(\"Fora do MA:\", (~mask_geo).sum())\n",
    "df = df[mask_geo]"
   ]
  },
  {
   "cell_type": "code",
   "execution_count": 11,
   "id": "11f6d7d6",
   "metadata": {},
   "outputs": [
    {
     "name": "stdout",
     "output_type": "stream",
     "text": [
      "<class 'pandas.core.frame.DataFrame'>\n",
      "RangeIndex: 34791 entries, 0 to 34790\n",
      "Data columns (total 20 columns):\n",
      " #   Column                 Non-Null Count  Dtype         \n",
      "---  ------                 --------------  -----         \n",
      " 0   id                     34791 non-null  object        \n",
      " 1   lat                    34791 non-null  float64       \n",
      " 2   lon                    34791 non-null  float64       \n",
      " 3   data_hora_gmt          34791 non-null  datetime64[ns]\n",
      " 4   satelite               34791 non-null  object        \n",
      " 5   municipio              34791 non-null  object        \n",
      " 6   estado                 34791 non-null  object        \n",
      " 7   pais                   34791 non-null  object        \n",
      " 8   municipio_id           34791 non-null  int64         \n",
      " 9   estado_id              34791 non-null  int64         \n",
      " 10  pais_id                34791 non-null  int64         \n",
      " 11  numero_dias_sem_chuva  34791 non-null  float64       \n",
      " 12  precipitacao           34791 non-null  float64       \n",
      " 13  risco_fogo             34791 non-null  float64       \n",
      " 14  bioma                  34791 non-null  object        \n",
      " 15  frp                    34791 non-null  float64       \n",
      " 16  ano                    34791 non-null  int32         \n",
      " 17  mes                    34791 non-null  int32         \n",
      " 18  dia                    34791 non-null  int32         \n",
      " 19  hora                   34791 non-null  int32         \n",
      "dtypes: datetime64[ns](1), float64(6), int32(4), int64(3), object(6)\n",
      "memory usage: 4.8+ MB\n"
     ]
    }
   ],
   "source": [
    "df.info()"
   ]
  },
  {
   "cell_type": "markdown",
   "id": "a8152b5d",
   "metadata": {},
   "source": [
    "### Resumo Final e Exportação\n",
    "Salvaremos o CSV em `data/processed/` com versão ou timestamp."
   ]
  },
  {
   "cell_type": "code",
   "execution_count": 13,
   "id": "f6537467",
   "metadata": {},
   "outputs": [
    {
     "name": "stdout",
     "output_type": "stream",
     "text": [
      "Arquivo salvo em: ../data/processed/queimadas_MA_2025_clean_v20250628_2146.csv\n"
     ]
    }
   ],
   "source": [
    "from datetime import datetime\n",
    "versao = datetime.now().strftime('%Y%m%d_%H%M')\n",
    "path = f\"../data/processed/queimadas_MA_2025_clean_v{versao}.csv\"\n",
    "df.to_csv(path, index=False)\n",
    "print(\"Arquivo salvo em:\", path)"
   ]
  }
 ],
 "metadata": {
  "kernelspec": {
   "display_name": ".venv",
   "language": "python",
   "name": "python3"
  },
  "language_info": {
   "codemirror_mode": {
    "name": "ipython",
    "version": 3
   },
   "file_extension": ".py",
   "mimetype": "text/x-python",
   "name": "python",
   "nbconvert_exporter": "python",
   "pygments_lexer": "ipython3",
   "version": "3.10.12"
  }
 },
 "nbformat": 4,
 "nbformat_minor": 5
}
